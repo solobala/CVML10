{
  "cells": [
    {
      "cell_type": "markdown",
      "metadata": {
        "id": "view-in-github",
        "colab_type": "text"
      },
      "source": [
        "<a href=\"https://colab.research.google.com/github/solobala/CVML10/blob/main/CVML10_%D0%9F%D1%80%D0%B0%D0%BA%D1%82%D0%B8%D0%BA%D0%B0_hogdescriptor.ipynb\" target=\"_parent\"><img src=\"https://colab.research.google.com/assets/colab-badge.svg\" alt=\"Open In Colab\"/></a>"
      ]
    },
    {
      "cell_type": "markdown",
      "metadata": {
        "id": "RlqR3f2yGJTb"
      },
      "source": [
        "# HOGDescriptor\n",
        "\n",
        "https://docs.opencv.org/2.4/modules/gpu/doc/object_detection.html"
      ]
    },
    {
      "cell_type": "code",
      "execution_count": 2,
      "metadata": {
        "colab": {
          "base_uri": "https://localhost:8080/"
        },
        "id": "hdI2WvoxGJTq",
        "outputId": "f07fb103-633f-4138-e16d-7ab37dd7d693"
      },
      "outputs": [
        {
          "output_type": "stream",
          "name": "stdout",
          "text": [
            "4.8.0\n"
          ]
        }
      ],
      "source": [
        "import cv2\n",
        "import numpy as np\n",
        "print(cv2.__version__)"
      ]
    },
    {
      "cell_type": "markdown",
      "metadata": {
        "id": "md-AK5PfGJTv"
      },
      "source": [
        "## Загружаем исходные данные"
      ]
    },
    {
      "cell_type": "code",
      "execution_count": 4,
      "metadata": {
        "id": "i85_rNXQGJTx"
      },
      "outputs": [],
      "source": [
        "train = np.loadtxt('train.csv', delimiter=',', skiprows=1)\n",
        "# сохраняем разметку в отдельную переменную\n",
        "train_label = train[:, 0]\n",
        "# приводим размерность к удобному для обаботки виду\n",
        "train_img = np.resize(train[:, 1:], (train.shape[0], 28, 28))"
      ]
    },
    {
      "cell_type": "markdown",
      "metadata": {
        "id": "V_Rw9PnrGJTz"
      },
      "source": [
        "## Задаем параметры для вычисления дескриптора"
      ]
    },
    {
      "cell_type": "code",
      "execution_count": 5,
      "metadata": {
        "id": "YFVd0HS3GJT0"
      },
      "outputs": [],
      "source": [
        "# Дескриптор - вектор описания харакетрных точек\n",
        "winSize = (28,28) # РАзмер окна\n",
        "blockSize = (14,14) # Размер блока\n",
        "blockStride = (14,14) # Размер шага в блоке\n",
        "cellSize = (7,7) # Размер ячейки\n",
        "nbins = 9 # кол-во бинов\n",
        "derivAperture = 1\n",
        "winSigma = 4.\n",
        "histogramNormType = 0\n",
        "L2HysThreshold = 2.0000000000000001e-01 # Порог отсечения по расстоянию L2\n",
        "gammaCorrection = 0\n",
        "nlevels = 64\n",
        "\n",
        "hog = cv2.HOGDescriptor(winSize,\n",
        "                        blockSize,\n",
        "                        blockStride,\n",
        "                        cellSize,\n",
        "                        nbins,\n",
        "                        derivAperture,\n",
        "                        winSigma,\n",
        "                        histogramNormType,\n",
        "                        L2HysThreshold,\n",
        "                        gammaCorrection,\n",
        "                        nlevels)"
      ]
    },
    {
      "cell_type": "markdown",
      "metadata": {
        "id": "hfOAdaW_GJT1"
      },
      "source": [
        "## Вычисляем дескриптор для изображения"
      ]
    },
    {
      "cell_type": "code",
      "execution_count": 6,
      "metadata": {
        "id": "XMfeSMw7GJT3",
        "colab": {
          "base_uri": "https://localhost:8080/"
        },
        "outputId": "edac3ef0-d6a2-45ec-cc73-11ec4597bfc4"
      },
      "outputs": [
        {
          "output_type": "stream",
          "name": "stdout",
          "text": [
            "Descriptor size: 144\n"
          ]
        }
      ],
      "source": [
        "# Это дескриптор для изображения с индексом 0\n",
        "descriptor = hog.compute(np.uint8(train_img[0]))\n",
        "print('Descriptor size: %d' % len(descriptor))"
      ]
    },
    {
      "cell_type": "code",
      "execution_count": 7,
      "metadata": {
        "id": "FXcpYob-GJT5",
        "colab": {
          "base_uri": "https://localhost:8080/",
          "height": 540
        },
        "outputId": "c47e8dea-324c-47c0-ea40-08ed5c97ba45"
      },
      "outputs": [
        {
          "output_type": "display_data",
          "data": {
            "text/plain": [
              "<Figure size 640x480 with 1 Axes>"
            ],
            "image/png": "[encoded data removed]"
          },
          "metadata": {}
        }
      ],
      "source": [
        "from matplotlib import pyplot as plt\n",
        "\n",
        "fig = plt.figure()\n",
        "ax = fig.add_axes([0,0,1,1])\n",
        "ax.bar(range(len(descriptor)), descriptor.reshape(-1))\n",
        "plt.show()"
      ]
    }
  ],
  "metadata": {
    "kernelspec": {
      "display_name": "Python 3",
      "language": "python",
      "name": "python3"
    },
    "language_info": {
      "codemirror_mode": {
        "name": "ipython",
        "version": 3
      },
      "file_extension": ".py",
      "mimetype": "text/x-python",
      "name": "python",
      "nbconvert_exporter": "python",
      "pygments_lexer": "ipython3",
      "version": "3.7.3"
    },
    "colab": {
      "provenance": [],
      "include_colab_link": true
    }
  },
  "nbformat": 4,
  "nbformat_minor": 0
}