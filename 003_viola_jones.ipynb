{
  "cells": [
    {
      "cell_type": "markdown",
      "metadata": {
        "id": "view-in-github",
        "colab_type": "text"
      },
      "source": [
        "<a href=\"https://colab.research.google.com/github/solobala/CVML10/blob/main/003_viola_jones.ipynb\" target=\"_parent\"><img src=\"https://colab.research.google.com/assets/colab-badge.svg\" alt=\"Open In Colab\"/></a>"
      ]
    },
    {
      "cell_type": "markdown",
      "metadata": {
        "id": "CDWxTijYbT6G"
      },
      "source": [
        "# Пример использования детектора лица Viola Jones\n",
        "\n",
        "Инструкция по обучению детектора доступна по [ссылке](http://docs.opencv.org/trunk/dc/d88/tutorial_traincascade.html)"
      ]
    },
    {
      "cell_type": "code",
      "execution_count": null,
      "metadata": {
        "id": "dBCj3FAmbT6R",
        "outputId": "e36cbc74-4567-4878-c9b8-0b5211947329"
      },
      "outputs": [
        {
          "name": "stdout",
          "output_type": "stream",
          "text": [
            "4.2.0\n"
          ]
        }
      ],
      "source": [
        "%matplotlib inline\n",
        "import cv2\n",
        "import numpy as np\n",
        "import matplotlib.pyplot as plt\n",
        "\n",
        "print(cv2.__version__)"
      ]
    },
    {
      "cell_type": "markdown",
      "metadata": {
        "id": "n8Td7YAgbT6X"
      },
      "source": [
        "## Загружаем предобученные модели для детекции лиц и глаз"
      ]
    },
    {
      "cell_type": "code",
      "execution_count": null,
      "metadata": {
        "id": "jajXNbhubT6Y"
      },
      "outputs": [],
      "source": [
        "face_cascade = cv2.CascadeClassifier('haarcascade_frontalface_default.xml')\n",
        "eye_cascade = cv2.CascadeClassifier('haarcascade_eye.xml')"
      ]
    },
    {
      "cell_type": "markdown",
      "metadata": {
        "id": "_uC8fra9bT6a"
      },
      "source": [
        "## Загружаем изображение для детекции"
      ]
    },
    {
      "cell_type": "code",
      "execution_count": null,
      "metadata": {
        "id": "2y4vmWIBbT6a"
      },
      "outputs": [],
      "source": [
        "img = cv2.imread('data/ocean.jpg')"
      ]
    },
    {
      "cell_type": "code",
      "execution_count": null,
      "metadata": {
        "id": "fitB9s4pbT6b"
      },
      "outputs": [],
      "source": [
        "plt.figure(figsize=(10, 8))\n",
        "plt.imshow(cv2.cvtColor(img, cv2.COLOR_BGR2RGB));"
      ]
    },
    {
      "cell_type": "markdown",
      "metadata": {
        "id": "179Tevn2bT6c"
      },
      "source": [
        "## Применяем детектор"
      ]
    },
    {
      "cell_type": "code",
      "execution_count": null,
      "metadata": {
        "id": "g1vJAwKFbT6e"
      },
      "outputs": [],
      "source": [
        "# преобразуем изображение в чернобелый формат\n",
        "gray = cv2.cvtColor(img, cv2.COLOR_BGR2GRAY)\n",
        "\n",
        "# запускаем детектор лиц\n",
        "faces = face_cascade.detectMultiScale(gray,\n",
        "                                      scaleFactor=1.2,\n",
        "                                      minNeighbors=3)\n",
        "\n",
        "detections = np.copy(img)  # создаем копию изображения для визуализации результатов\n",
        "\n",
        "for (x,y,w,h) in faces:\n",
        "    # отрисовываем детекцию лиц\n",
        "    cv2.rectangle(detections,(x,y),(x+w,y+h),(255,0,0), 2)\n",
        "    roi_gray = gray[y:y+h, x:x+w]\n",
        "    roi_color = detections[y:y+h, x:x+w]\n",
        "    # запускаем детектор глаз для каждой детекции лица\n",
        "    eyes = eye_cascade.detectMultiScale(roi_gray)\n",
        "    for (ex,ey,ew,eh) in eyes:\n",
        "        # отрисовываем детекцию глаз\n",
        "        cv2.rectangle(roi_color,(ex,ey),(ex+ew,ey+eh),(0,255,0),2)\n",
        "\n",
        "plt.figure(figsize=(10, 8))\n",
        "plt.imshow(cv2.cvtColor(detections, cv2.COLOR_BGR2RGB));"
      ]
    },
    {
      "cell_type": "code",
      "execution_count": null,
      "metadata": {
        "id": "CUgI-ucQbT6f"
      },
      "outputs": [],
      "source": []
    }
  ],
  "metadata": {
    "kernelspec": {
      "display_name": "Python 3",
      "language": "python",
      "name": "python3"
    },
    "language_info": {
      "codemirror_mode": {
        "name": "ipython",
        "version": 3
      },
      "file_extension": ".py",
      "mimetype": "text/x-python",
      "name": "python",
      "nbconvert_exporter": "python",
      "pygments_lexer": "ipython3",
      "version": "3.7.3"
    },
    "colab": {
      "provenance": [],
      "include_colab_link": true
    }
  },
  "nbformat": 4,
  "nbformat_minor": 0
}