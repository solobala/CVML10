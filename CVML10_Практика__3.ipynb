{
  "cells": [
    {
      "cell_type": "markdown",
      "metadata": {
        "id": "view-in-github",
        "colab_type": "text"
      },
      "source": [
        "<a href=\"https://colab.research.google.com/github/solobala/CVML10/blob/main/CVML10_%D0%9F%D1%80%D0%B0%D0%BA%D1%82%D0%B8%D0%BA%D0%B0__3.ipynb\" target=\"_parent\"><img src=\"https://colab.research.google.com/assets/colab-badge.svg\" alt=\"Open In Colab\"/></a>"
      ]
    },
    {
      "cell_type": "markdown",
      "metadata": {
        "id": "Ua86fn4b6I7y"
      },
      "source": [
        "## Digit Recognizer\n",
        "https://www.kaggle.com/c/digit-recognizer"
      ]
    },
    {
      "cell_type": "code",
      "execution_count": 1,
      "metadata": {
        "collapsed": true,
        "id": "Rq80esV46I78"
      },
      "outputs": [],
      "source": [
        "%matplotlib inline\n",
        "import cv2\n",
        "import numpy as np\n",
        "import matplotlib.pyplot as plt"
      ]
    },
    {
      "cell_type": "markdown",
      "metadata": {
        "id": "Wb6xT4MZ6I8A"
      },
      "source": [
        "## Загружаем исходные данные"
      ]
    },
    {
      "cell_type": "code",
      "execution_count": 4,
      "metadata": {
        "collapsed": true,
        "id": "-RQkabTt6I8B"
      },
      "outputs": [],
      "source": [
        "train = np.loadtxt('/content/train.csv', delimiter=',', skiprows=1)\n",
        "test = np.loadtxt('/content/test.csv', delimiter=',', skiprows=1)"
      ]
    },
    {
      "cell_type": "code",
      "source": [
        "train.shape"
      ],
      "metadata": {
        "colab": {
          "base_uri": "https://localhost:8080/"
        },
        "id": "caMM2Wxv_UIj",
        "outputId": "bea9be12-5fa0-4587-b410-27d28b30a027"
      },
      "execution_count": 6,
      "outputs": [
        {
          "output_type": "execute_result",
          "data": {
            "text/plain": [
              "(42000, 785)"
            ]
          },
          "metadata": {},
          "execution_count": 6
        }
      ]
    },
    {
      "cell_type": "code",
      "execution_count": 5,
      "metadata": {
        "collapsed": true,
        "id": "nztEk7ID6I8C"
      },
      "outputs": [],
      "source": [
        "# сохраняем разметку в отдельную переменную - это нулевой столбец\n",
        "train_label = train[:, 0]\n",
        "# приводим размерность к удобному для обаботки виду ( было 785 столобцов,без таргета 784, это 28**2)\n",
        "train_img = np.resize(train[:, 1:], (train.shape[0], 28, 28))\n",
        "test_img = np.resize(test, (test.shape[0], 28, 28))"
      ]
    },
    {
      "cell_type": "code",
      "execution_count": 7,
      "metadata": {
        "colab": {
          "base_uri": "https://localhost:8080/"
        },
        "id": "gU9Rhh3V6I8E",
        "outputId": "f1bea6db-54d9-4dc9-a6bb-d67b50b75187"
      },
      "outputs": [
        {
          "output_type": "execute_result",
          "data": {
            "text/plain": [
              "(42000, 28, 28)"
            ]
          },
          "metadata": {},
          "execution_count": 7
        }
      ],
      "source": [
        "train_img.shape # у нас 42 тыс. изображений 28х28 пикселей"
      ]
    },
    {
      "cell_type": "markdown",
      "metadata": {
        "id": "wmjVa7Q36I8G"
      },
      "source": [
        "## Визуализируем исходные данные"
      ]
    },
    {
      "cell_type": "code",
      "execution_count": 8,
      "metadata": {
        "colab": {
          "base_uri": "https://localhost:8080/",
          "height": 272
        },
        "id": "fxkapF7m6I8H",
        "outputId": "87c29d2b-bd15-4439-9ba7-7996a1c6850c"
      },
      "outputs": [
        {
          "output_type": "display_data",
          "data": {
            "text/plain": [
              "<Figure size 2000x1000 with 5 Axes>"
            ],
            "image/png": "[encoded data removed]"
          },
          "metadata": {}
        }
      ],
      "source": [
        "fig = plt.figure(figsize=(20, 10))\n",
        "for i, img in enumerate(train_img[0:5], 1):  # первые 5 изображений\n",
        "    subplot = fig.add_subplot(1, 7, i)\n",
        "    plt.imshow(img, cmap='gray');\n",
        "    subplot.set_title('%s' % train_label[i - 1]);"
      ]
    },
    {
      "cell_type": "markdown",
      "metadata": {
        "id": "HOBmL_NB6I8J"
      },
      "source": [
        "## Вычисляем X и Y составляющие градиента с помощью оператора Собеля"
      ]
    },
    {
      "cell_type": "code",
      "execution_count": 9,
      "metadata": {
        "collapsed": true,
        "id": "wK38Ytkp6I8K"
      },
      "outputs": [],
      "source": [
        "# Будет столько же x и y градиентов, сколько пикселей в каждом train_img.\n",
        "# инициализируем для каждой составляюще  градиента numpy массив нужной размерногсти нулями\n",
        "train_sobel_x = np.zeros_like(train_img)\n",
        "train_sobel_y = np.zeros_like(train_img)\n",
        "for i in range(len(train_img)):\n",
        "    train_sobel_x[i] = cv2.Sobel(train_img[i], cv2.CV_64F, dx=1, dy=0, ksize=3)\n",
        "    train_sobel_y[i] = cv2.Sobel(train_img[i], cv2.CV_64F, dx=0, dy=1, ksize=3)"
      ]
    },
    {
      "cell_type": "code",
      "execution_count": 11,
      "metadata": {
        "collapsed": true,
        "id": "9om0CtGB6I8L"
      },
      "outputs": [],
      "source": [
        "# то же самое для теста\n",
        "test_sobel_x = np.zeros_like(test_img)\n",
        "test_sobel_y = np.zeros_like(test_img)\n",
        "for i in range(len(test_img)):\n",
        "    test_sobel_x[i] = cv2.Sobel(test_img[i], cv2.CV_64F, dx=1, dy=0, ksize=3)\n",
        "    test_sobel_y[i] = cv2.Sobel(test_img[i], cv2.CV_64F, dx=0, dy=1, ksize=3)"
      ]
    },
    {
      "cell_type": "markdown",
      "metadata": {
        "id": "22Hl4dJ_6I8M"
      },
      "source": [
        "## Вычисляем угол и длину вектора градиента"
      ]
    },
    {
      "cell_type": "code",
      "execution_count": 12,
      "metadata": {
        "collapsed": true,
        "id": "MbpRZEuI6I8N"
      },
      "outputs": [],
      "source": [
        "train_g, train_theta = cv2.cartToPolar(train_sobel_x, train_sobel_y)"
      ]
    },
    {
      "cell_type": "code",
      "execution_count": 13,
      "metadata": {
        "collapsed": true,
        "id": "k0CPA_2K6I8O"
      },
      "outputs": [],
      "source": [
        "test_g, test_theta = cv2.cartToPolar(test_sobel_x, test_sobel_y)"
      ]
    },
    {
      "cell_type": "code",
      "execution_count": 14,
      "metadata": {
        "colab": {
          "base_uri": "https://localhost:8080/",
          "height": 540
        },
        "id": "0ZZPc44o6I8P",
        "outputId": "82ac662b-791d-47aa-b17f-ace602f4df35"
      },
      "outputs": [
        {
          "output_type": "display_data",
          "data": {
            "text/plain": [
              "<Figure size 2000x1000 with 10 Axes>"
            ],
            "image/png": "[encoded data removed]"
          },
          "metadata": {}
        }
      ],
      "source": [
        "# строим гистограмму для угов пворота для 5 первых\n",
        "fig = plt.figure(figsize=(20, 10))\n",
        "for i, img in enumerate(train_g[:5], 1):\n",
        "    subplot = fig.add_subplot(1, 7, i)\n",
        "    plt.imshow(img, cmap='gray');\n",
        "    subplot.set_title('%s' % train_label[i - 1]);\n",
        "    subplot = fig.add_subplot(3, 7, i)\n",
        "    plt.hist(train_theta[i - 1].flatten(),\n",
        "             bins=16, weights=train_g[i - 1].flatten())"
      ]
    },
    {
      "cell_type": "markdown",
      "metadata": {
        "id": "-SbXgTZX6I8Q"
      },
      "source": [
        "## Вычисляем гистограммы градиентов"
      ]
    },
    {
      "cell_type": "code",
      "execution_count": 15,
      "metadata": {
        "collapsed": true,
        "id": "rSm3HThn6I8Q"
      },
      "outputs": [],
      "source": [
        "# Гистограммы вычисляются с учетом длины вектора градиента\n",
        "train_hist = np.zeros((len(train_img), 16))\n",
        "for i in range(len(train_img)):\n",
        "    hist, borders = np.histogram(train_theta[i],\n",
        "                                 bins=16,\n",
        "                                 range=(0., 2. * np.pi),\n",
        "                                 weights=train_g[i])\n",
        "    train_hist[i] = hist"
      ]
    },
    {
      "cell_type": "code",
      "execution_count": 16,
      "metadata": {
        "collapsed": true,
        "id": "lzQ8tfrk6I8R"
      },
      "outputs": [],
      "source": [
        "test_hist = np.zeros((len(test_img), 16))\n",
        "for i in range(len(test_img)):\n",
        "    hist, borders = np.histogram(test_theta[i],\n",
        "                                 bins=16,\n",
        "                                 range=(0., 2. * np.pi),\n",
        "                                 weights=test_g[i])\n",
        "    test_hist[i] = hist"
      ]
    },
    {
      "cell_type": "markdown",
      "metadata": {
        "id": "gp5KcitO6I8S"
      },
      "source": [
        "## Нормируем вектор гистограммы"
      ]
    },
    {
      "cell_type": "code",
      "execution_count": 17,
      "metadata": {
        "collapsed": true,
        "id": "5nsrWwB_6I8T"
      },
      "outputs": [],
      "source": [
        "# По умолчанию используется L2 норма\n",
        "train_hist = train_hist / np.linalg.norm(train_hist, axis=1)[:, None]"
      ]
    },
    {
      "cell_type": "code",
      "execution_count": 18,
      "metadata": {
        "collapsed": true,
        "id": "XjJ920z56I8T"
      },
      "outputs": [],
      "source": [
        "test_hist = test_hist / np.linalg.norm(test_hist, axis=1)[:, None]"
      ]
    },
    {
      "cell_type": "markdown",
      "metadata": {
        "id": "0MSzreqk6I8U"
      },
      "source": [
        "## Разбиваем выборку на обучение и валидацию"
      ]
    },
    {
      "cell_type": "code",
      "execution_count": 19,
      "metadata": {
        "collapsed": true,
        "id": "BTZVG84c6I8U"
      },
      "outputs": [],
      "source": [
        "from sklearn.model_selection import train_test_split\n",
        "y_train, y_val, x_train, x_val = train_test_split(\n",
        "    train_label, train_hist, test_size=0.2,\n",
        "    random_state=42)"
      ]
    },
    {
      "cell_type": "markdown",
      "metadata": {
        "id": "mFZVfqlw6I8V"
      },
      "source": [
        "## Вычисляем центроиды каждого из 10 классов"
      ]
    },
    {
      "cell_type": "code",
      "execution_count": 20,
      "metadata": {
        "collapsed": true,
        "id": "BLvgSj2F6I8V"
      },
      "outputs": [],
      "source": [
        "centroids = np.zeros((10, train_hist.shape[1]), dtype=np.float32)"
      ]
    },
    {
      "cell_type": "code",
      "execution_count": 21,
      "metadata": {
        "collapsed": true,
        "id": "o5zVqfAY6I8W"
      },
      "outputs": [],
      "source": [
        "# для каждого из 10 классов усредняем все гистограммы градиентов\n",
        "for i in range(10):\n",
        "    centroids[i] = np.mean(x_train[y_train == i], axis=0)"
      ]
    },
    {
      "cell_type": "markdown",
      "metadata": {
        "id": "J71RKhmA6I8W"
      },
      "source": [
        "## Находим ближайший центройд для валидации"
      ]
    },
    {
      "cell_type": "code",
      "execution_count": 26,
      "metadata": {
        "collapsed": true,
        "id": "4o7w9nka6I8X"
      },
      "outputs": [],
      "source": [
        "# Дальше для каждого изображения из x_val - считаем расстояние между векторами гистограммы и центроидами - правильный класс - при минимальном расстоянии\n",
        "pred_val = np.zeros_like(y_val)\n",
        "for i in range(len(y_val)):\n",
        "    distances = np.linalg.norm(centroids - x_val[i], axis=1)\n",
        "    pred_val[i] = np.argmin(distances)"
      ]
    },
    {
      "cell_type": "markdown",
      "metadata": {
        "id": "p_B4Bxd-6I8X"
      },
      "source": [
        "## Оцениваем качество решение на валидационной выборке"
      ]
    },
    {
      "cell_type": "code",
      "execution_count": 23,
      "metadata": {
        "colab": {
          "base_uri": "https://localhost:8080/"
        },
        "id": "LqHG5-ok6I8Y",
        "outputId": "34d78289-9a87-44e5-d352-25ad67c695d8"
      },
      "outputs": [
        {
          "output_type": "stream",
          "name": "stdout",
          "text": [
            "Accuracy: 0.4270238095238095\n"
          ]
        }
      ],
      "source": [
        "from sklearn.metrics import accuracy_score\n",
        "print('Accuracy: %s' % accuracy_score(y_val, pred_val))"
      ]
    },
    {
      "cell_type": "code",
      "execution_count": 24,
      "metadata": {
        "colab": {
          "base_uri": "https://localhost:8080/"
        },
        "id": "Lt2ieMAS6I8Z",
        "outputId": "0006d015-7af2-474b-e39f-9a78c8543701"
      },
      "outputs": [
        {
          "output_type": "stream",
          "name": "stdout",
          "text": [
            "              precision    recall  f1-score   support\n",
            "\n",
            "         0.0       0.34      0.12      0.18       816\n",
            "         1.0       0.59      0.76      0.66       909\n",
            "         2.0       0.33      0.29      0.31       846\n",
            "         3.0       0.55      0.49      0.51       937\n",
            "         4.0       0.33      0.31      0.32       839\n",
            "         5.0       0.46      0.67      0.55       702\n",
            "         6.0       0.24      0.45      0.31       785\n",
            "         7.0       0.73      0.41      0.53       893\n",
            "         8.0       0.39      0.49      0.44       835\n",
            "         9.0       0.48      0.27      0.34       838\n",
            "\n",
            "    accuracy                           0.43      8400\n",
            "   macro avg       0.44      0.43      0.42      8400\n",
            "weighted avg       0.45      0.43      0.42      8400\n",
            "\n"
          ]
        }
      ],
      "source": [
        "from sklearn.metrics import classification_report\n",
        "print(classification_report(y_val, pred_val))"
      ]
    },
    {
      "cell_type": "code",
      "execution_count": 25,
      "metadata": {
        "colab": {
          "base_uri": "https://localhost:8080/"
        },
        "id": "185ES7ch6I8Z",
        "outputId": "001c8d3f-86fd-4b17-e2b4-8c1dfbc79ec9"
      },
      "outputs": [
        {
          "output_type": "stream",
          "name": "stdout",
          "text": [
            "[[102  24  82  30 106  18 221   7 179  47]\n",
            " [  0 692   2   0  44   1 139  17  13   1]\n",
            " [ 21   0 245 158  12 203  54  16 119  18]\n",
            " [ 14   0 113 456   3 235   7   2  98   9]\n",
            " [ 11 248   5   2 260   0 205  43  37  28]\n",
            " [  3   0  84  97   5 472   3   4  33   1]\n",
            " [ 53  26  66  11 116   4 355  13  76  65]\n",
            " [  4 113  38  16  66  41 189 368  15  43]\n",
            " [ 81   6  68  44  36  44 107   3 411  35]\n",
            " [ 11  73  31  20 149  11 222  30  65 226]]\n"
          ]
        }
      ],
      "source": [
        "from sklearn.metrics import confusion_matrix\n",
        "print(confusion_matrix(y_val, pred_val))"
      ]
    },
    {
      "cell_type": "markdown",
      "metadata": {
        "id": "mgwfbA2z6I8a"
      },
      "source": [
        "## Предсказания на тестовыйх данных"
      ]
    },
    {
      "cell_type": "code",
      "execution_count": null,
      "metadata": {
        "collapsed": true,
        "id": "yIGJQm0q6I8b"
      },
      "outputs": [],
      "source": [
        "pred_test = np.zeros(len(test_img), np.uint8)\n",
        "for i in range(len(test_img)):\n",
        "    distances = np.linalg.norm(centroids - test_hist[i], axis=1)\n",
        "    pred_test[i] = np.argmin(distances)"
      ]
    },
    {
      "cell_type": "markdown",
      "metadata": {
        "id": "PNbrLe_V6I8c"
      },
      "source": [
        "## Визуализируем предсказания"
      ]
    },
    {
      "cell_type": "code",
      "execution_count": null,
      "metadata": {
        "id": "lu2q5fwU6I8c",
        "outputId": "4705af75-d9c7-4e6e-f778-ef5586aad8bb"
      },
      "outputs": [
        {
          "data": {
            "image/png": "[encoded data removed]",
            "text/plain": [
              "<matplotlib.figure.Figure at 0x1212af1d0>"
            ]
          },
          "metadata": {},
          "output_type": "display_data"
        }
      ],
      "source": [
        "fig = plt.figure(figsize=(20, 10))\n",
        "for i, img in enumerate(test_img[0:5], 1):\n",
        "    subplot = fig.add_subplot(1, 7, i)\n",
        "    plt.imshow(img, cmap='gray');\n",
        "    subplot.set_title('%s' % pred_test[i - 1]);"
      ]
    },
    {
      "cell_type": "markdown",
      "metadata": {
        "id": "fpjgdJ2A6I8d"
      },
      "source": [
        "## Готовим файл для отправки"
      ]
    },
    {
      "cell_type": "code",
      "execution_count": null,
      "metadata": {
        "collapsed": true,
        "id": "pYdw_3ji6I8e"
      },
      "outputs": [],
      "source": [
        "with open('submit.txt', 'w') as dst:\n",
        "    dst.write('ImageId,Label\\n')\n",
        "    for i, p in enumerate(pred_test, 1):\n",
        "        dst.write('%s,%s\\n' % (i, p))"
      ]
    },
    {
      "cell_type": "code",
      "execution_count": null,
      "metadata": {
        "id": "5RiLXVur6I8e"
      },
      "outputs": [],
      "source": [
        "!head submit.txt"
      ]
    },
    {
      "cell_type": "code",
      "execution_count": null,
      "metadata": {
        "collapsed": true,
        "id": "Hevl3LFE6I8p"
      },
      "outputs": [],
      "source": [
        "# Your submission scored 0.41700"
      ]
    }
  ],
  "metadata": {
    "kernelspec": {
      "display_name": "Python 3",
      "language": "python",
      "name": "python3"
    },
    "language_info": {
      "codemirror_mode": {
        "name": "ipython",
        "version": 3
      },
      "file_extension": ".py",
      "mimetype": "text/x-python",
      "name": "python",
      "nbconvert_exporter": "python",
      "pygments_lexer": "ipython3",
      "version": "3.6.4"
    },
    "colab": {
      "provenance": [],
      "include_colab_link": true
    }
  },
  "nbformat": 4,
  "nbformat_minor": 0
}