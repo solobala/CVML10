{
  "cells": [
    {
      "cell_type": "markdown",
      "metadata": {
        "id": "view-in-github",
        "colab_type": "text"
      },
      "source": [
        "<a href=\"https://colab.research.google.com/github/solobala/CVML10/blob/main/CVML_%D0%9F%D1%80%D0%B0%D0%BA%D1%82%D0%B8%D0%BA%D0%B0_%D0%A1%D0%BE%D0%B1%D0%B5%D0%BB%D1%8C.ipynb\" target=\"_parent\"><img src=\"https://colab.research.google.com/assets/colab-badge.svg\" alt=\"Open In Colab\"/></a>"
      ]
    },
    {
      "cell_type": "markdown",
      "metadata": {
        "id": "zmnR-TB_5r0V"
      },
      "source": [
        "# Оператор Собеля\n",
        "для поиска вертикальных и горизонтальных границ"
      ]
    },
    {
      "cell_type": "code",
      "execution_count": null,
      "metadata": {
        "id": "CbT0NchI5r0Z"
      },
      "outputs": [],
      "source": [
        "import cv2\n",
        "import numpy as np"
      ]
    },
    {
      "cell_type": "code",
      "execution_count": null,
      "metadata": {
        "id": "EEt42IvD5r0b"
      },
      "outputs": [],
      "source": [
        "img = cv2.imread('lena.png')\n",
        "img_gray = cv2.cvtColor(img, cv2.COLOR_BGR2GRAY)"
      ]
    },
    {
      "cell_type": "code",
      "execution_count": null,
      "metadata": {
        "id": "HHAoAzra5r0c"
      },
      "outputs": [],
      "source": [
        "img.dtype"
      ]
    },
    {
      "cell_type": "code",
      "execution_count": null,
      "metadata": {
        "id": "6SwjuHRk5r0c"
      },
      "outputs": [],
      "source": [
        "%matplotlib inline\n",
        "from matplotlib import pyplot as plt\n",
        "plt.imshow(img_gray, cmap='gray')"
      ]
    },
    {
      "cell_type": "markdown",
      "metadata": {
        "id": "PnpLsktF5r0d"
      },
      "source": [
        "## Оператор собеля для вычисления X и Y составляющих градиента"
      ]
    },
    {
      "cell_type": "code",
      "execution_count": null,
      "metadata": {
        "id": "PSB5vGKK5r0d"
      },
      "outputs": [],
      "source": [
        "sobel_x = np.array([[-1, 0, 1],\n",
        "                    [-2, 0, 2],\n",
        "                    [-1, 0, 1]])\n",
        "\n",
        "sobel_y = np.array([[-1, -2, -1],\n",
        "                    [ 0,  0,  0],\n",
        "                    [ 1,  2,  1]])"
      ]
    },
    {
      "cell_type": "markdown",
      "metadata": {
        "id": "qlHzAldH5r0e"
      },
      "source": [
        "## Вычисляем градиенты по осям"
      ]
    },
    {
      "cell_type": "code",
      "execution_count": null,
      "metadata": {
        "id": "m11CpNoS5r0e"
      },
      "outputs": [],
      "source": [
        "grad_x = cv2.filter2D(img_gray, cv2.CV_32F, sobel_x)\n",
        "grad_y = cv2.filter2D(img_gray, cv2.CV_32F, sobel_y)"
      ]
    },
    {
      "cell_type": "code",
      "execution_count": null,
      "metadata": {
        "id": "vpNnE5o95r0e"
      },
      "outputs": [],
      "source": [
        "plt.figure(2, figsize=(16, 12), dpi=180)\n",
        "plt.subplot(121)\n",
        "plt.imshow(np.abs(grad_x)/np.max(np.abs(grad_x)), cmap='gray')\n",
        "plt.title('Grad X')\n",
        "plt.subplot(122)\n",
        "plt.imshow(np.abs(grad_y)/np.max(np.abs(grad_y)), cmap='gray')\n",
        "plt.title('Grad Y');"
      ]
    },
    {
      "cell_type": "markdown",
      "metadata": {
        "id": "I8NAT0sw5r0f"
      },
      "source": [
        "## Вычисляем суммарный градиент"
      ]
    },
    {
      "cell_type": "code",
      "execution_count": null,
      "metadata": {
        "id": "btM7gixo5r0f"
      },
      "outputs": [],
      "source": [
        "grad = np.sqrt(grad_x ** 2 + grad_y ** 2)\n",
        "theta = np.arctan2(grad_y, grad_x)"
      ]
    },
    {
      "cell_type": "code",
      "execution_count": null,
      "metadata": {
        "id": "wECg8MZA5r0g"
      },
      "outputs": [],
      "source": [
        "plt.figure(2, figsize=(16, 12), dpi=180)\n",
        "plt.subplot(121)\n",
        "plt.imshow(img_gray, cmap='gray')\n",
        "plt.subplot(122)\n",
        "plt.imshow(grad, cmap='gray')"
      ]
    },
    {
      "cell_type": "markdown",
      "metadata": {
        "id": "FbtTOsIR5r0g"
      },
      "source": [
        "## Визуализируем направление градиента"
      ]
    },
    {
      "cell_type": "code",
      "execution_count": null,
      "metadata": {
        "id": "ooz20WjY5r0g"
      },
      "outputs": [],
      "source": [
        "H = np.uint8((theta + np.pi) / (2 * np.pi) * 180)\n",
        "S = np.uint8(grad / np.max(grad) * 255)\n",
        "V = np.uint8(grad / np.max(grad) * 255)\n",
        "\n",
        "theta_hsv = np.stack([H, S, V], axis=-1)\n",
        "theta_rgb = cv2.cvtColor(theta_hsv, cv2.COLOR_HSV2RGB)\n",
        "\n",
        "plt.figure(2, figsize=(16, 12), dpi=180)\n",
        "plt.subplot(121)\n",
        "plt.imshow(img_gray, cmap='gray')\n",
        "plt.subplot(122)\n",
        "plt.imshow(theta_rgb, cmap='gray');"
      ]
    }
  ],
  "metadata": {
    "kernelspec": {
      "display_name": "Python 3",
      "language": "python",
      "name": "python3"
    },
    "language_info": {
      "codemirror_mode": {
        "name": "ipython",
        "version": 3
      },
      "file_extension": ".py",
      "mimetype": "text/x-python",
      "name": "python",
      "nbconvert_exporter": "python",
      "pygments_lexer": "ipython3",
      "version": "3.8.7"
    },
    "colab": {
      "provenance": [],
      "include_colab_link": true
    }
  },
  "nbformat": 4,
  "nbformat_minor": 0
}